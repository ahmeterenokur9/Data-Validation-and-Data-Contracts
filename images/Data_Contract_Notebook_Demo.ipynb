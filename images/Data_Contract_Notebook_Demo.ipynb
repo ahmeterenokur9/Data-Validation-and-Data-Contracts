{
  "nbformat": 4,
  "nbformat_minor": 0,
  "metadata": {
    "colab": {
      "provenance": []
    },
    "kernelspec": {
      "name": "python3",
      "display_name": "Python 3"
    },
    "language_info": {
      "name": "python"
    }
  },
  "cells": [
    {
      "cell_type": "code",
      "execution_count": 1,
      "metadata": {
        "id": "yBFz8UvIS5zU",
        "collapsed": true,
        "colab": {
          "base_uri": "https://localhost:8080/"
        },
        "outputId": "0af2e6b8-63c6-4775-b6b0-f8d6ac9c28bb"
      },
      "outputs": [
        {
          "output_type": "stream",
          "name": "stdout",
          "text": [
            "Looking in indexes: https://pypi.dev.sodadata.io/simple\n",
            "Collecting soda-core\n",
            "  Downloading https://pypi.dev.sodadata.io/packages/soda_core-4.0.0.dev366-py3-none-any.whl (111 kB)\n",
            "\u001b[2K     \u001b[90m━━━━━━━━━━━━━━━━━━━━━━━━━━━━━━━━━━━━━━━\u001b[0m \u001b[32m111.8/111.8 kB\u001b[0m \u001b[31m1.3 MB/s\u001b[0m eta \u001b[36m0:00:00\u001b[0m\n",
            "\u001b[?25hCollecting ruamel.yaml<0.18.0,>=0.17.0 (from soda-core)\n",
            "  Downloading ruamel.yaml-0.17.40-py3-none-any.whl.metadata (19 kB)\n",
            "Requirement already satisfied: requests<2.33.0,>=2.32.3 in /usr/local/lib/python3.11/dist-packages (from soda-core) (2.32.3)\n",
            "Requirement already satisfied: pydantic<3.0,>=2.0 in /usr/local/lib/python3.11/dist-packages (from soda-core) (2.11.7)\n",
            "Collecting opentelemetry-api<2.0.0,>=1.16.0 (from soda-core)\n",
            "  Downloading opentelemetry_api-1.34.1-py3-none-any.whl.metadata (1.5 kB)\n",
            "Collecting opentelemetry-exporter-otlp-proto-http<2.0.0,>=1.16.0 (from soda-core)\n",
            "  Downloading opentelemetry_exporter_otlp_proto_http-1.34.1-py3-none-any.whl.metadata (2.3 kB)\n",
            "Requirement already satisfied: tabulate[widechars] in /usr/local/lib/python3.11/dist-packages (from soda-core) (0.9.0)\n",
            "Collecting python-dotenv~=1.0 (from soda-core)\n",
            "  Downloading python_dotenv-1.1.1-py3-none-any.whl.metadata (24 kB)\n",
            "Requirement already satisfied: importlib-metadata<8.8.0,>=6.0 in /usr/local/lib/python3.11/dist-packages (from opentelemetry-api<2.0.0,>=1.16.0->soda-core) (8.7.0)\n",
            "Requirement already satisfied: typing-extensions>=4.5.0 in /usr/local/lib/python3.11/dist-packages (from opentelemetry-api<2.0.0,>=1.16.0->soda-core) (4.14.0)\n",
            "Requirement already satisfied: googleapis-common-protos~=1.52 in /usr/local/lib/python3.11/dist-packages (from opentelemetry-exporter-otlp-proto-http<2.0.0,>=1.16.0->soda-core) (1.70.0)\n",
            "Collecting opentelemetry-exporter-otlp-proto-common==1.34.1 (from opentelemetry-exporter-otlp-proto-http<2.0.0,>=1.16.0->soda-core)\n",
            "  Downloading opentelemetry_exporter_otlp_proto_common-1.34.1-py3-none-any.whl.metadata (1.9 kB)\n",
            "Collecting opentelemetry-proto==1.34.1 (from opentelemetry-exporter-otlp-proto-http<2.0.0,>=1.16.0->soda-core)\n",
            "  Downloading opentelemetry_proto-1.34.1-py3-none-any.whl.metadata (2.4 kB)\n",
            "Collecting opentelemetry-sdk~=1.34.1 (from opentelemetry-exporter-otlp-proto-http<2.0.0,>=1.16.0->soda-core)\n",
            "  Downloading opentelemetry_sdk-1.34.1-py3-none-any.whl.metadata (1.6 kB)\n",
            "Requirement already satisfied: protobuf<6.0,>=5.0 in /usr/local/lib/python3.11/dist-packages (from opentelemetry-proto==1.34.1->opentelemetry-exporter-otlp-proto-http<2.0.0,>=1.16.0->soda-core) (5.29.5)\n",
            "Requirement already satisfied: annotated-types>=0.6.0 in /usr/local/lib/python3.11/dist-packages (from pydantic<3.0,>=2.0->soda-core) (0.7.0)\n",
            "Requirement already satisfied: pydantic-core==2.33.2 in /usr/local/lib/python3.11/dist-packages (from pydantic<3.0,>=2.0->soda-core) (2.33.2)\n",
            "Requirement already satisfied: typing-inspection>=0.4.0 in /usr/local/lib/python3.11/dist-packages (from pydantic<3.0,>=2.0->soda-core) (0.4.1)\n",
            "Requirement already satisfied: charset-normalizer<4,>=2 in /usr/local/lib/python3.11/dist-packages (from requests<2.33.0,>=2.32.3->soda-core) (3.4.2)\n",
            "Requirement already satisfied: idna<4,>=2.5 in /usr/local/lib/python3.11/dist-packages (from requests<2.33.0,>=2.32.3->soda-core) (3.10)\n",
            "Requirement already satisfied: urllib3<3,>=1.21.1 in /usr/local/lib/python3.11/dist-packages (from requests<2.33.0,>=2.32.3->soda-core) (2.4.0)\n",
            "Requirement already satisfied: certifi>=2017.4.17 in /usr/local/lib/python3.11/dist-packages (from requests<2.33.0,>=2.32.3->soda-core) (2025.6.15)\n",
            "Collecting ruamel.yaml.clib>=0.2.7 (from ruamel.yaml<0.18.0,>=0.17.0->soda-core)\n",
            "  Downloading ruamel.yaml.clib-0.2.12-cp311-cp311-manylinux_2_17_x86_64.manylinux2014_x86_64.whl.metadata (2.7 kB)\n",
            "Requirement already satisfied: wcwidth in /usr/local/lib/python3.11/dist-packages (from tabulate[widechars]->soda-core) (0.2.13)\n",
            "Requirement already satisfied: zipp>=3.20 in /usr/local/lib/python3.11/dist-packages (from importlib-metadata<8.8.0,>=6.0->opentelemetry-api<2.0.0,>=1.16.0->soda-core) (3.23.0)\n",
            "Collecting opentelemetry-semantic-conventions==0.55b1 (from opentelemetry-sdk~=1.34.1->opentelemetry-exporter-otlp-proto-http<2.0.0,>=1.16.0->soda-core)\n",
            "  Downloading opentelemetry_semantic_conventions-0.55b1-py3-none-any.whl.metadata (2.5 kB)\n",
            "Downloading opentelemetry_api-1.34.1-py3-none-any.whl (65 kB)\n",
            "\u001b[2K   \u001b[90m━━━━━━━━━━━━━━━━━━━━━━━━━━━━━━━━━━━━━━━━\u001b[0m \u001b[32m65.8/65.8 kB\u001b[0m \u001b[31m2.4 MB/s\u001b[0m eta \u001b[36m0:00:00\u001b[0m\n",
            "\u001b[?25hDownloading opentelemetry_exporter_otlp_proto_http-1.34.1-py3-none-any.whl (17 kB)\n",
            "Downloading opentelemetry_exporter_otlp_proto_common-1.34.1-py3-none-any.whl (18 kB)\n",
            "Downloading opentelemetry_proto-1.34.1-py3-none-any.whl (55 kB)\n",
            "\u001b[2K   \u001b[90m━━━━━━━━━━━━━━━━━━━━━━━━━━━━━━━━━━━━━━━━\u001b[0m \u001b[32m55.7/55.7 kB\u001b[0m \u001b[31m4.2 MB/s\u001b[0m eta \u001b[36m0:00:00\u001b[0m\n",
            "\u001b[?25hDownloading python_dotenv-1.1.1-py3-none-any.whl (20 kB)\n",
            "Downloading ruamel.yaml-0.17.40-py3-none-any.whl (113 kB)\n",
            "\u001b[2K   \u001b[90m━━━━━━━━━━━━━━━━━━━━━━━━━━━━━━━━━━━━━━━━\u001b[0m \u001b[32m113.7/113.7 kB\u001b[0m \u001b[31m9.9 MB/s\u001b[0m eta \u001b[36m0:00:00\u001b[0m\n",
            "\u001b[?25hDownloading opentelemetry_sdk-1.34.1-py3-none-any.whl (118 kB)\n",
            "\u001b[2K   \u001b[90m━━━━━━━━━━━━━━━━━━━━━━━━━━━━━━━━━━━━━━━━\u001b[0m \u001b[32m118.5/118.5 kB\u001b[0m \u001b[31m9.5 MB/s\u001b[0m eta \u001b[36m0:00:00\u001b[0m\n",
            "\u001b[?25hDownloading opentelemetry_semantic_conventions-0.55b1-py3-none-any.whl (196 kB)\n",
            "\u001b[2K   \u001b[90m━━━━━━━━━━━━━━━━━━━━━━━━━━━━━━━━━━━━━━━━\u001b[0m \u001b[32m196.2/196.2 kB\u001b[0m \u001b[31m14.6 MB/s\u001b[0m eta \u001b[36m0:00:00\u001b[0m\n",
            "\u001b[?25hDownloading ruamel.yaml.clib-0.2.12-cp311-cp311-manylinux_2_17_x86_64.manylinux2014_x86_64.whl (739 kB)\n",
            "\u001b[2K   \u001b[90m━━━━━━━━━━━━━━━━━━━━━━━━━━━━━━━━━━━━━━━━\u001b[0m \u001b[32m739.1/739.1 kB\u001b[0m \u001b[31m28.4 MB/s\u001b[0m eta \u001b[36m0:00:00\u001b[0m\n",
            "\u001b[?25hInstalling collected packages: ruamel.yaml.clib, python-dotenv, opentelemetry-proto, ruamel.yaml, opentelemetry-exporter-otlp-proto-common, opentelemetry-api, opentelemetry-semantic-conventions, opentelemetry-sdk, opentelemetry-exporter-otlp-proto-http, soda-core\n",
            "Successfully installed opentelemetry-api-1.34.1 opentelemetry-exporter-otlp-proto-common-1.34.1 opentelemetry-exporter-otlp-proto-http-1.34.1 opentelemetry-proto-1.34.1 opentelemetry-sdk-1.34.1 opentelemetry-semantic-conventions-0.55b1 python-dotenv-1.1.1 ruamel.yaml-0.17.40 ruamel.yaml.clib-0.2.12 soda-core-4.0.0.dev366\n",
            "Requirement already satisfied: python-dotenv in /usr/local/lib/python3.11/dist-packages (1.1.1)\n"
          ]
        }
      ],
      "source": [
        "!pip install -i https://pypi.dev.sodadata.io/simple -U soda-core\n",
        "!pip install python-dotenv"
      ]
    },
    {
      "cell_type": "code",
      "source": [
        "import sys\n",
        "print(sys.executable)\n",
        "!pip show soda-core"
      ],
      "metadata": {
        "id": "-XpTEZHm-iiu",
        "collapsed": true,
        "colab": {
          "base_uri": "https://localhost:8080/"
        },
        "outputId": "ff4b19c1-148d-4176-feab-c53748cac4c6"
      },
      "execution_count": 2,
      "outputs": [
        {
          "output_type": "stream",
          "name": "stdout",
          "text": [
            "/usr/bin/python3\n",
            "Name: soda-core\n",
            "Version: 4.0.0.dev366\n",
            "Summary: Soda core library & CLI\n",
            "Home-page: \n",
            "Author: Soda Data N.V.\n",
            "Author-email: info@soda.io\n",
            "License: \n",
            "Location: /usr/local/lib/python3.11/dist-packages\n",
            "Requires: opentelemetry-api, opentelemetry-exporter-otlp-proto-http, pydantic, python-dotenv, requests, ruamel.yaml, tabulate\n",
            "Required-by: \n"
          ]
        }
      ]
    },
    {
      "cell_type": "markdown",
      "source": [
        "Get your API keys on https://beta.soda.io/account/api-keys and copy them in a safe place."
      ],
      "metadata": {
        "id": "uU5V1b8kMwbE"
      }
    },
    {
      "cell_type": "code",
      "source": [
        "import getpass\n",
        "import os\n",
        "\n",
        "os.environ[\"api_key_id\"] = getpass.getpass(\"d60da429-1b54-4fe9-a5f0-e4144cd9628e\")\n",
        "os.environ[\"api_key_secret\"] = getpass.getpass(\"K55E2q0KHFNCwjGzcphFdfNhbx27sYLXFJW2ckmM69R_orYPK0n6TQ\")"
      ],
      "metadata": {
        "id": "PivKvA8pE53Q",
        "colab": {
          "base_uri": "https://localhost:8080/"
        },
        "outputId": "5bd49cd9-7a9e-4378-f5dc-a555a4ef3398"
      },
      "execution_count": 3,
      "outputs": [
        {
          "name": "stdout",
          "output_type": "stream",
          "text": [
            "d60da429-1b54-4fe9-a5f0-e4144cd9628e··········\n",
            "K55E2q0KHFNCwjGzcphFdfNhbx27sYLXFJW2ckmM69R_orYPK0n6TQ··········\n"
          ]
        }
      ]
    },
    {
      "cell_type": "code",
      "source": [
        "import os\n",
        "\n",
        "soda_cloud_config = f\"\"\"\n",
        "soda_cloud:\n",
        "  host: beta.soda.io\n",
        "  api_key_id: {os.getenv(\"api_key_id\")}\n",
        "  api_key_secret: {os.getenv(\"api_key_secret\")}\n",
        "\"\"\"\n",
        "\n",
        "with open(\"soda-cloud.yml\", \"w\") as f:\n",
        "    f.write(soda_cloud_config)\n",
        "\n",
        "print(\"✅ soda-cloud.yml written.\")"
      ],
      "metadata": {
        "id": "5E1EFO_WS9dd",
        "colab": {
          "base_uri": "https://localhost:8080/"
        },
        "outputId": "b7b2c73a-5cd0-49f8-f939-6143433df564"
      },
      "execution_count": 4,
      "outputs": [
        {
          "output_type": "stream",
          "name": "stdout",
          "text": [
            "✅ soda-cloud.yml written.\n"
          ]
        }
      ]
    },
    {
      "cell_type": "code",
      "source": [
        "from soda_core import configure_logging\n",
        "from soda_core.contracts import verify_contracts_on_agent\n",
        "\n",
        "configure_logging(verbose=False)\n",
        "\n",
        "res = verify_contracts_on_agent(\n",
        "    # Fetch the contract from Soda Cloud using the dataset identifier\n",
        "    dataset_identifiers=[\"databricks_demo/unity_catalog/demo_sales_operations/regional_sales\"],\n",
        "    # Connect to Soda Cloud and Soda Agent\n",
        "    soda_cloud_file_path=\"soda-cloud.yml\",\n",
        "    # Publish the results to Soda Cloud\n",
        "    publish=True\n",
        ")\n",
        "\n",
        "\n",
        "print(res.get_logs())"
      ],
      "metadata": {
        "id": "hxIKJNcdS-VT",
        "colab": {
          "base_uri": "https://localhost:8080/"
        },
        "outputId": "80a6d44f-acc1-4aa8-942a-796d6d2bb384"
      },
      "execution_count": 5,
      "outputs": [
        {
          "output_type": "stream",
          "name": "stdout",
          "text": [
            "📜 Fetching contract from Soda Cloud for dataset 'databricks_demo/unity_catalog/demo_sales_operations/regional_sales'\n",
            "☁ Fetching data source configuration from Soda Cloud for dataset 'databricks_demo/unity_catalog/demo_sales_operations/regional_sales'\n",
            "Scan 27bd9831-56ab-40cb-86e1-bc4b42294734 has state 'queuing'\n",
            "Scan 27bd9831-56ab-40cb-86e1-bc4b42294734 has state 'executing'\n",
            "Scan 27bd9831-56ab-40cb-86e1-bc4b42294734 has state 'executing'\n",
            "Scan 27bd9831-56ab-40cb-86e1-bc4b42294734 has state 'completedWithFailures'\n",
            "Received status code 200 for POST request\n",
            "HTTP Response with status code 200, message: OK\n",
            "Successfully opened session 01f0541c-3b2b-1413-a67d-50348069aebb\n",
            "Verifying contract 📜 regional_sales.yml 🤞\n",
            "Received status code 200 for POST request\n",
            "HTTP Response with status code 200, message: OK\n",
            "Received status code 200 for POST request\n",
            "HTTP Response with status code 200, message: OK\n",
            "Received status code 200 for POST request\n",
            "HTTP Response with status code 200, message: OK\n",
            "Received status code 200 for POST request\n",
            "HTTP Response with status code 200, message: OK\n",
            "\n",
            "### Contract results for databricks_demo/unity_catalog/demo_sales_operations/regional_sales\n",
            "+-----------------+------------------------------------------+-----------+------------------------+\n",
            "| Column          | Check                                    | Outcome   | Details                |\n",
            "+=================+==========================================+===========+========================+\n",
            "| [dataset-level] | row_count                                | ✅ PASSED | row_count: 4504        |\n",
            "+-----------------+------------------------------------------+-----------+------------------------+\n",
            "|                 | schema                                   | ✅ PASSED |                        |\n",
            "+-----------------+------------------------------------------+-----------+------------------------+\n",
            "| customer_id     | Must not have null values                | ✅ PASSED | missing_count: 0       |\n",
            "|                 |                                          |           | row_count: 4504        |\n",
            "|                 |                                          |           | missing_percent: 0.0   |\n",
            "+-----------------+------------------------------------------+-----------+------------------------+\n",
            "| order_date      | Cannot be in the future                  | ✅ PASSED | failed_rows_count: 0   |\n",
            "+-----------------+------------------------------------------+-----------+------------------------+\n",
            "|                 | Must not have null values                | ✅ PASSED | missing_count: 0       |\n",
            "|                 |                                          |           | row_count: 4504        |\n",
            "|                 |                                          |           | missing_percent: 0.0   |\n",
            "+-----------------+------------------------------------------+-----------+------------------------+\n",
            "| order_id        | Must not have null values                | ✅ PASSED | missing_count: 0       |\n",
            "|                 |                                          |           | row_count: 4504        |\n",
            "|                 |                                          |           | missing_percent: 0.0   |\n",
            "+-----------------+------------------------------------------+-----------+------------------------+\n",
            "| payment_method  | Must not have null values                | ❌ FAILED | missing_count: 101     |\n",
            "|                 |                                          |           | row_count: 4504        |\n",
            "|                 |                                          |           | missing_percent: 2.24  |\n",
            "+-----------------+------------------------------------------+-----------+------------------------+\n",
            "|                 | Valid values in North                    | ✅ PASSED | invalid_count: 0       |\n",
            "|                 |                                          |           | row_count: 0           |\n",
            "|                 |                                          |           | invalid_percent: 0     |\n",
            "+-----------------+------------------------------------------+-----------+------------------------+\n",
            "|                 | Valid values in all regions except North | ❌ FAILED | invalid_count: 573     |\n",
            "|                 |                                          |           | row_count: 4504        |\n",
            "|                 |                                          |           | invalid_percent: 12.72 |\n",
            "+-----------------+------------------------------------------+-----------+------------------------+\n",
            "| price           | Must be higher than 0                    | ✅ PASSED | invalid_count: 0       |\n",
            "|                 |                                          |           | row_count: 4504        |\n",
            "|                 |                                          |           | invalid_percent: 0.0   |\n",
            "+-----------------+------------------------------------------+-----------+------------------------+\n",
            "|                 | Must not have null values                | ✅ PASSED | missing_count: 0       |\n",
            "|                 |                                          |           | row_count: 4504        |\n",
            "|                 |                                          |           | missing_percent: 0.0   |\n",
            "+-----------------+------------------------------------------+-----------+------------------------+\n",
            "| quantity        | Must be higher than 0                    | ✅ PASSED | invalid_count: 0       |\n",
            "|                 |                                          |           | row_count: 4504        |\n",
            "|                 |                                          |           | invalid_percent: 0.0   |\n",
            "+-----------------+------------------------------------------+-----------+------------------------+\n",
            "|                 | Must not have null values                | ✅ PASSED | missing_count: 0       |\n",
            "|                 |                                          |           | row_count: 4504        |\n",
            "|                 |                                          |           | missing_percent: 0.0   |\n",
            "+-----------------+------------------------------------------+-----------+------------------------+\n",
            "| region          | Valid values                             | ✅ PASSED | invalid_count: 0       |\n",
            "|                 |                                          |           | row_count: 4504        |\n",
            "|                 |                                          |           | invalid_percent: 0.0   |\n",
            "+-----------------+------------------------------------------+-----------+------------------------+\n",
            "# Summary:\n",
            "|----------------|----|----|\n",
            "| Checks         | 14 |    |\n",
            "| Passed         | 12 | ✅ |\n",
            "| Failed         |  2 | ❌ |\n",
            "| Not Evaluated  |  0 | ✅ |\n",
            "| Runtime Errors |  0 | ✅ |\n",
            "\n",
            "Soda Cloud Trace: 3663004925230790462\n",
            "See contract dataset on Soda Cloud: https://beta.soda.io/o/90b8b8a9-f92b-4d7a-98d5-faceab2174e0/datasets/d14071d6-5cd5-4004-bc1e-a330d46c436e\n",
            "['Received status code 200 for POST request', 'HTTP Response with status code 200, message: OK', 'Successfully opened session 01f0541c-3b2b-1413-a67d-50348069aebb', 'Verifying contract 📜 regional_sales.yml 🤞', 'Received status code 200 for POST request', 'HTTP Response with status code 200, message: OK', 'Received status code 200 for POST request', 'HTTP Response with status code 200, message: OK', 'Received status code 200 for POST request', 'HTTP Response with status code 200, message: OK', 'Received status code 200 for POST request', 'HTTP Response with status code 200, message: OK', '\\n### Contract results for databricks_demo/unity_catalog/demo_sales_operations/regional_sales\\n+-----------------+------------------------------------------+-----------+------------------------+\\n| Column          | Check                                    | Outcome   | Details                |\\n+=================+==========================================+===========+========================+\\n| [dataset-level] | row_count                                | ✅ PASSED | row_count: 4504        |\\n+-----------------+------------------------------------------+-----------+------------------------+\\n|                 | schema                                   | ✅ PASSED |                        |\\n+-----------------+------------------------------------------+-----------+------------------------+\\n| customer_id     | Must not have null values                | ✅ PASSED | missing_count: 0       |\\n|                 |                                          |           | row_count: 4504        |\\n|                 |                                          |           | missing_percent: 0.0   |\\n+-----------------+------------------------------------------+-----------+------------------------+\\n| order_date      | Cannot be in the future                  | ✅ PASSED | failed_rows_count: 0   |\\n+-----------------+------------------------------------------+-----------+------------------------+\\n|                 | Must not have null values                | ✅ PASSED | missing_count: 0       |\\n|                 |                                          |           | row_count: 4504        |\\n|                 |                                          |           | missing_percent: 0.0   |\\n+-----------------+------------------------------------------+-----------+------------------------+\\n| order_id        | Must not have null values                | ✅ PASSED | missing_count: 0       |\\n|                 |                                          |           | row_count: 4504        |\\n|                 |                                          |           | missing_percent: 0.0   |\\n+-----------------+------------------------------------------+-----------+------------------------+\\n| payment_method  | Must not have null values                | ❌ FAILED | missing_count: 101     |\\n|                 |                                          |           | row_count: 4504        |\\n|                 |                                          |           | missing_percent: 2.24  |\\n+-----------------+------------------------------------------+-----------+------------------------+\\n|                 | Valid values in North                    | ✅ PASSED | invalid_count: 0       |\\n|                 |                                          |           | row_count: 0           |\\n|                 |                                          |           | invalid_percent: 0     |\\n+-----------------+------------------------------------------+-----------+------------------------+\\n|                 | Valid values in all regions except North | ❌ FAILED | invalid_count: 573     |\\n|                 |                                          |           | row_count: 4504        |\\n|                 |                                          |           | invalid_percent: 12.72 |\\n+-----------------+------------------------------------------+-----------+------------------------+\\n| price           | Must be higher than 0                    | ✅ PASSED | invalid_count: 0       |\\n|                 |                                          |           | row_count: 4504        |\\n|                 |                                          |           | invalid_percent: 0.0   |\\n+-----------------+------------------------------------------+-----------+------------------------+\\n|                 | Must not have null values                | ✅ PASSED | missing_count: 0       |\\n|                 |                                          |           | row_count: 4504        |\\n|                 |                                          |           | missing_percent: 0.0   |\\n+-----------------+------------------------------------------+-----------+------------------------+\\n| quantity        | Must be higher than 0                    | ✅ PASSED | invalid_count: 0       |\\n|                 |                                          |           | row_count: 4504        |\\n|                 |                                          |           | invalid_percent: 0.0   |\\n+-----------------+------------------------------------------+-----------+------------------------+\\n|                 | Must not have null values                | ✅ PASSED | missing_count: 0       |\\n|                 |                                          |           | row_count: 4504        |\\n|                 |                                          |           | missing_percent: 0.0   |\\n+-----------------+------------------------------------------+-----------+------------------------+\\n| region          | Valid values                             | ✅ PASSED | invalid_count: 0       |\\n|                 |                                          |           | row_count: 4504        |\\n|                 |                                          |           | invalid_percent: 0.0   |\\n+-----------------+------------------------------------------+-----------+------------------------+\\n# Summary:\\n|----------------|----|----|\\n| Checks         | 14 |    |\\n| Passed         | 12 | ✅ |\\n| Failed         |  2 | ❌ |\\n| Not Evaluated  |  0 | ✅ |\\n| Runtime Errors |  0 | ✅ |\\n', 'Soda Cloud Trace: 3663004925230790462', 'See contract dataset on Soda Cloud: https://beta.soda.io/o/90b8b8a9-f92b-4d7a-98d5-faceab2174e0/datasets/d14071d6-5cd5-4004-bc1e-a330d46c436e']\n"
          ]
        }
      ]
    },
    {
      "cell_type": "markdown",
      "source": [
        "Congratulation, you verified your contract programmatically!\n",
        "\n",
        "Use the link above to get back to your dataset and see the results of the verification.\n",
        "\n",
        "Or navigate back to https://beta.soda.io"
      ],
      "metadata": {
        "id": "e5SUGbT5Mmrq"
      }
    }
  ]
}